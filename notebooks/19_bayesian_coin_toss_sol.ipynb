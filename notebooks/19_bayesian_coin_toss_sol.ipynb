{
  "nbformat": 4,
  "nbformat_minor": 0,
  "metadata": {
    "colab": {
      "name": "19_bayesian_coin_toss_sol.ipynb",
      "provenance": [],
      "collapsed_sections": [],
      "toc_visible": true
    },
    "kernelspec": {
      "display_name": "Python 3",
      "language": "python",
      "name": "python3"
    },
    "language_info": {
      "codemirror_mode": {
        "name": "ipython",
        "version": 3
      },
      "file_extension": ".py",
      "mimetype": "text/x-python",
      "name": "python",
      "nbconvert_exporter": "python",
      "pygments_lexer": "ipython3",
      "version": "3.6.8"
    },
    "nteract": {
      "version": "0.12.3"
    }
  },
  "cells": [
    {
      "cell_type": "markdown",
      "metadata": {
        "colab_type": "text",
        "id": "TdjHPdOouzBM"
      },
      "source": [
        "# A Bayesian model for a coin toss\n",
        "\n",
        "**Goal:** In this notebook you will learn how you can calculate the postirior distribution for the parameter $\\theta$ as well as the predictvie distribution for the outcome of a bernoulli experiment. You will use the brute force approach and pick different prior distributions for the parameter $\\theta$.\n",
        "Note that you will use discrete values for the prior and postirior of $\\theta$ here. You will work with sums in this notebook to approximate the integrals.\n",
        "\n",
        "\n",
        "**Dataset:** You work with the observed values of coin tosses, 1 for head and 0 for tail\n",
        "\n",
        "**Content:**\n",
        "* Define a uniform prior for $\\theta$\n",
        "* Evaluate the joined likelihood and the unnormalized posterior at one specific $\\theta$\n",
        "* Calculate the joined likelihood, the unnormalized posterior and the normalized posterior for a range of  $\\theta$\n",
        "* Calculate and plot the prior predictive distribution and the posterior predictive distribution\n",
        "\n",
        "\n"
      ]
    },
    {
      "cell_type": "code",
      "metadata": {
        "id": "q2bB8noh1s84",
        "colab_type": "code",
        "outputId": "d2085686-73f8-4804-a839-5b9f639e2332",
        "colab": {
          "base_uri": "https://localhost:8080/",
          "height": 632
        }
      },
      "source": [
        "!pip install tensorflow==2.1.0"
      ],
      "execution_count": 0,
      "outputs": [
        {
          "output_type": "stream",
          "text": [
            "Requirement already satisfied: tensorflow==2.1.0 in /usr/local/lib/python3.6/dist-packages (2.1.0)\n",
            "Requirement already satisfied: keras-applications>=1.0.8 in /usr/local/lib/python3.6/dist-packages (from tensorflow==2.1.0) (1.0.8)\n",
            "Requirement already satisfied: google-pasta>=0.1.6 in /usr/local/lib/python3.6/dist-packages (from tensorflow==2.1.0) (0.2.0)\n",
            "Requirement already satisfied: keras-preprocessing>=1.1.0 in /usr/local/lib/python3.6/dist-packages (from tensorflow==2.1.0) (1.1.0)\n",
            "Requirement already satisfied: opt-einsum>=2.3.2 in /usr/local/lib/python3.6/dist-packages (from tensorflow==2.1.0) (3.2.0)\n",
            "Requirement already satisfied: tensorflow-estimator<2.2.0,>=2.1.0rc0 in /usr/local/lib/python3.6/dist-packages (from tensorflow==2.1.0) (2.1.0)\n",
            "Requirement already satisfied: termcolor>=1.1.0 in /usr/local/lib/python3.6/dist-packages (from tensorflow==2.1.0) (1.1.0)\n",
            "Requirement already satisfied: grpcio>=1.8.6 in /usr/local/lib/python3.6/dist-packages (from tensorflow==2.1.0) (1.27.2)\n",
            "Requirement already satisfied: scipy==1.4.1; python_version >= \"3\" in /usr/local/lib/python3.6/dist-packages (from tensorflow==2.1.0) (1.4.1)\n",
            "Requirement already satisfied: absl-py>=0.7.0 in /usr/local/lib/python3.6/dist-packages (from tensorflow==2.1.0) (0.9.0)\n",
            "Requirement already satisfied: protobuf>=3.8.0 in /usr/local/lib/python3.6/dist-packages (from tensorflow==2.1.0) (3.10.0)\n",
            "Requirement already satisfied: gast==0.2.2 in /usr/local/lib/python3.6/dist-packages (from tensorflow==2.1.0) (0.2.2)\n",
            "Requirement already satisfied: six>=1.12.0 in /usr/local/lib/python3.6/dist-packages (from tensorflow==2.1.0) (1.12.0)\n",
            "Requirement already satisfied: wrapt>=1.11.1 in /usr/local/lib/python3.6/dist-packages (from tensorflow==2.1.0) (1.12.1)\n",
            "Requirement already satisfied: astor>=0.6.0 in /usr/local/lib/python3.6/dist-packages (from tensorflow==2.1.0) (0.8.1)\n",
            "Requirement already satisfied: wheel>=0.26; python_version >= \"3\" in /usr/local/lib/python3.6/dist-packages (from tensorflow==2.1.0) (0.34.2)\n",
            "Requirement already satisfied: tensorboard<2.2.0,>=2.1.0 in /usr/local/lib/python3.6/dist-packages (from tensorflow==2.1.0) (2.1.1)\n",
            "Requirement already satisfied: numpy<2.0,>=1.16.0 in /usr/local/lib/python3.6/dist-packages (from tensorflow==2.1.0) (1.18.2)\n",
            "Requirement already satisfied: h5py in /usr/local/lib/python3.6/dist-packages (from keras-applications>=1.0.8->tensorflow==2.1.0) (2.10.0)\n",
            "Requirement already satisfied: setuptools in /usr/local/lib/python3.6/dist-packages (from protobuf>=3.8.0->tensorflow==2.1.0) (46.0.0)\n",
            "Requirement already satisfied: werkzeug>=0.11.15 in /usr/local/lib/python3.6/dist-packages (from tensorboard<2.2.0,>=2.1.0->tensorflow==2.1.0) (1.0.0)\n",
            "Requirement already satisfied: markdown>=2.6.8 in /usr/local/lib/python3.6/dist-packages (from tensorboard<2.2.0,>=2.1.0->tensorflow==2.1.0) (3.2.1)\n",
            "Requirement already satisfied: google-auth<2,>=1.6.3 in /usr/local/lib/python3.6/dist-packages (from tensorboard<2.2.0,>=2.1.0->tensorflow==2.1.0) (1.7.2)\n",
            "Requirement already satisfied: requests<3,>=2.21.0 in /usr/local/lib/python3.6/dist-packages (from tensorboard<2.2.0,>=2.1.0->tensorflow==2.1.0) (2.21.0)\n",
            "Requirement already satisfied: google-auth-oauthlib<0.5,>=0.4.1 in /usr/local/lib/python3.6/dist-packages (from tensorboard<2.2.0,>=2.1.0->tensorflow==2.1.0) (0.4.1)\n",
            "Requirement already satisfied: pyasn1-modules>=0.2.1 in /usr/local/lib/python3.6/dist-packages (from google-auth<2,>=1.6.3->tensorboard<2.2.0,>=2.1.0->tensorflow==2.1.0) (0.2.8)\n",
            "Requirement already satisfied: rsa<4.1,>=3.1.4 in /usr/local/lib/python3.6/dist-packages (from google-auth<2,>=1.6.3->tensorboard<2.2.0,>=2.1.0->tensorflow==2.1.0) (4.0)\n",
            "Requirement already satisfied: cachetools<3.2,>=2.0.0 in /usr/local/lib/python3.6/dist-packages (from google-auth<2,>=1.6.3->tensorboard<2.2.0,>=2.1.0->tensorflow==2.1.0) (3.1.1)\n",
            "Requirement already satisfied: certifi>=2017.4.17 in /usr/local/lib/python3.6/dist-packages (from requests<3,>=2.21.0->tensorboard<2.2.0,>=2.1.0->tensorflow==2.1.0) (2019.11.28)\n",
            "Requirement already satisfied: chardet<3.1.0,>=3.0.2 in /usr/local/lib/python3.6/dist-packages (from requests<3,>=2.21.0->tensorboard<2.2.0,>=2.1.0->tensorflow==2.1.0) (3.0.4)\n",
            "Requirement already satisfied: urllib3<1.25,>=1.21.1 in /usr/local/lib/python3.6/dist-packages (from requests<3,>=2.21.0->tensorboard<2.2.0,>=2.1.0->tensorflow==2.1.0) (1.24.3)\n",
            "Requirement already satisfied: idna<2.9,>=2.5 in /usr/local/lib/python3.6/dist-packages (from requests<3,>=2.21.0->tensorboard<2.2.0,>=2.1.0->tensorflow==2.1.0) (2.8)\n",
            "Requirement already satisfied: requests-oauthlib>=0.7.0 in /usr/local/lib/python3.6/dist-packages (from google-auth-oauthlib<0.5,>=0.4.1->tensorboard<2.2.0,>=2.1.0->tensorflow==2.1.0) (1.3.0)\n",
            "Requirement already satisfied: pyasn1<0.5.0,>=0.4.6 in /usr/local/lib/python3.6/dist-packages (from pyasn1-modules>=0.2.1->google-auth<2,>=1.6.3->tensorboard<2.2.0,>=2.1.0->tensorflow==2.1.0) (0.4.8)\n",
            "Requirement already satisfied: oauthlib>=3.0.0 in /usr/local/lib/python3.6/dist-packages (from requests-oauthlib>=0.7.0->google-auth-oauthlib<0.5,>=0.4.1->tensorboard<2.2.0,>=2.1.0->tensorflow==2.1.0) (3.1.0)\n"
          ],
          "name": "stdout"
        }
      ]
    },
    {
      "cell_type": "code",
      "metadata": {
        "id": "TdYuC4yRP0ga",
        "colab_type": "code",
        "outputId": "1ba7b83e-0a2e-4f1f-cfc3-e2549f147b85",
        "colab": {
          "base_uri": "https://localhost:8080/",
          "height": 119
        }
      },
      "source": [
        "!pip install tensorflow_probability==0.8.0"
      ],
      "execution_count": 0,
      "outputs": [
        {
          "output_type": "stream",
          "text": [
            "Requirement already satisfied: tensorflow_probability==0.8.0 in /usr/local/lib/python3.6/dist-packages (0.8.0)\n",
            "Requirement already satisfied: decorator in /usr/local/lib/python3.6/dist-packages (from tensorflow_probability==0.8.0) (4.4.2)\n",
            "Requirement already satisfied: numpy>=1.13.3 in /usr/local/lib/python3.6/dist-packages (from tensorflow_probability==0.8.0) (1.18.2)\n",
            "Requirement already satisfied: six>=1.10.0 in /usr/local/lib/python3.6/dist-packages (from tensorflow_probability==0.8.0) (1.12.0)\n",
            "Requirement already satisfied: gast<0.3,>=0.2 in /usr/local/lib/python3.6/dist-packages (from tensorflow_probability==0.8.0) (0.2.2)\n",
            "Requirement already satisfied: cloudpickle==1.1.1 in /usr/local/lib/python3.6/dist-packages (from tensorflow_probability==0.8.0) (1.1.1)\n"
          ],
          "name": "stdout"
        }
      ]
    },
    {
      "cell_type": "markdown",
      "metadata": {
        "colab_type": "text",
        "id": "4etcsdnkuTpU"
      },
      "source": [
        "#### Imports"
      ]
    },
    {
      "cell_type": "code",
      "metadata": {
        "colab_type": "code",
        "id": "_VSparStMHS6",
        "outputId": "ab971ee6-1a03-4206-b22a-4ee5265b7411",
        "colab": {
          "base_uri": "https://localhost:8080/",
          "height": 51
        }
      },
      "source": [
        "import matplotlib.pyplot as plt\n",
        "import numpy as np\n",
        "\n",
        "import tensorflow as tf\n",
        "import tensorflow_probability as tfp\n",
        "\n",
        "plt.style.use('default') \n",
        "%matplotlib inline\n",
        "tfd = tfp.distributions\n",
        "print(\"TFP Version\", tfp.__version__)\n",
        "print(\"TF  Version\",tf.__version__)"
      ],
      "execution_count": 0,
      "outputs": [
        {
          "output_type": "stream",
          "text": [
            "TFP Version 0.8.0\n",
            "TF  Version 2.1.0\n"
          ],
          "name": "stdout"
        }
      ]
    },
    {
      "cell_type": "markdown",
      "metadata": {
        "colab_type": "text",
        "id": "dKWgqZJsuir7"
      },
      "source": [
        "#### Create train data\n",
        "In the next cell we set the outcome of three coin tosses to one, meaning we get three times head."
      ]
    },
    {
      "cell_type": "code",
      "metadata": {
        "colab_type": "code",
        "id": "KYNnP9ZzR9wq",
        "colab": {}
      },
      "source": [
        "obs_data=np.repeat(1,3)\n"
      ],
      "execution_count": 0,
      "outputs": []
    },
    {
      "cell_type": "markdown",
      "metadata": {
        "colab_type": "text",
        "id": "kwCJtfU9vPGu"
      },
      "source": [
        "## Maximum likelihood approach to fit the Bernoulli model\n",
        "Because we have a binary outcome (heads or tails) we need a Bernoulli model to describe the data. A Bernoulli model has only one parameter $\\theta$ which is the probability to get outcome one (head). In the cell below you use the maximum liklihood approach to estimate the parameter $\\theta$ and the standart deviation."
      ]
    },
    {
      "cell_type": "code",
      "metadata": {
        "colab_type": "code",
        "id": "LjPTrOWPBboz",
        "outputId": "da27ffbc-6151-4e21-9017-a8f7c4eebe3a",
        "colab": {
          "base_uri": "https://localhost:8080/",
          "height": 51
        }
      },
      "source": [
        "### ML\n",
        "est_theta_ml=np.mean(obs_data)\n",
        "print(\"ML theta\",est_theta_ml)\n",
        "sd_est_theta_ml = est_theta_ml * (1. - est_theta_ml)\n",
        "print(\"sd theta\",sd_est_theta_ml)"
      ],
      "execution_count": 0,
      "outputs": [
        {
          "output_type": "stream",
          "text": [
            "ML theta 1.0\n",
            "sd theta 0.0\n"
          ],
          "name": "stdout"
        }
      ]
    },
    {
      "cell_type": "markdown",
      "metadata": {
        "colab_type": "text",
        "id": "HfYA2KnwxTvu"
      },
      "source": [
        "## Bayes approach to fit the Bernoulli model\n",
        "For the Bayes approach we fist need to define a prior distribution for the patameter $\\theta$ of the Bernoulli distribution. We evaluate the distributions at discrete points in the range 0.05 to 0.95. You use a uniform prior where every theta has the same probability. "
      ]
    },
    {
      "cell_type": "code",
      "metadata": {
        "colab_type": "code",
        "id": "gv8JQ7ph-xtM",
        "outputId": "761035aa-d0ab-4525-c3a1-dd5166981d1f",
        "colab": {
          "base_uri": "https://localhost:8080/",
          "height": 51
        }
      },
      "source": [
        "theta=np.arange(0.05,1,0.05)\n",
        "print(theta)\n",
        "prior = 1/len(theta) #The normalizing constant of the prior"
      ],
      "execution_count": 0,
      "outputs": [
        {
          "output_type": "stream",
          "text": [
            "[0.05 0.1  0.15 0.2  0.25 0.3  0.35 0.4  0.45 0.5  0.55 0.6  0.65 0.7\n",
            " 0.75 0.8  0.85 0.9  0.95]\n"
          ],
          "name": "stdout"
        }
      ]
    },
    {
      "cell_type": "markdown",
      "metadata": {
        "colab_type": "text",
        "id": "o5eAD6uJyPDM"
      },
      "source": [
        "Let's evaluate the joined likelihood and the unnormalized posterior at one specific $\\theta = 0.5$"
      ]
    },
    {
      "cell_type": "code",
      "metadata": {
        "colab_type": "code",
        "id": "cxNnVecuxqC2",
        "outputId": "874182bf-9bec-48de-932b-c1280469e66b",
        "colab": {
          "base_uri": "https://localhost:8080/",
          "height": 51
        }
      },
      "source": [
        "dist = tfp.distributions.Bernoulli(probs=0.5) #one specific theta\n",
        "print(np.prod(dist.prob(obs_data))) #joint likelihood\n",
        "print(np.prod(dist.prob(obs_data))*prior) #unnormalized posterior"
      ],
      "execution_count": 0,
      "outputs": [
        {
          "output_type": "stream",
          "text": [
            "0.125\n",
            "0.006578947368421052\n"
          ],
          "name": "stdout"
        }
      ]
    },
    {
      "cell_type": "markdown",
      "metadata": {
        "colab_type": "text",
        "id": "9z9qObHIyy3S"
      },
      "source": [
        "Repeating the steps above for all thetas from the range of 0.05 until 0.95."
      ]
    },
    {
      "cell_type": "code",
      "metadata": {
        "colab_type": "code",
        "id": "_PGX3RSbF9qT",
        "colab": {}
      },
      "source": [
        "res = np.zeros((len(theta),5))\n",
        "for i in range(0,len(theta)):\n",
        "  dist = tfp.distributions.Bernoulli(probs=theta[i])   \n",
        "  res[i,0:4]=np.array((theta[i],np.prod(dist.prob(obs_data)),prior,np.prod(dist.prob(obs_data))*prior))"
      ],
      "execution_count": 0,
      "outputs": []
    },
    {
      "cell_type": "markdown",
      "metadata": {
        "colab_type": "text",
        "id": "xtOv-ccHzVtI"
      },
      "source": [
        "Note that we need to normalize the posterior, so that it sums up to one."
      ]
    },
    {
      "cell_type": "code",
      "metadata": {
        "colab_type": "code",
        "id": "i1EhebTRHu-G",
        "outputId": "911d568b-3620-4ee1-f6d9-7ab9833b4f1b",
        "colab": {
          "base_uri": "https://localhost:8080/",
          "height": 638
        }
      },
      "source": [
        "import pandas as pd\n",
        "res=pd.DataFrame(res,columns=[\"theta\",\"jointlik\",\"prior\",\"unnorm_post\",\"post\"])\n",
        "res[\"post\"]=res[\"unnorm_post\"]/np.sum(res[\"unnorm_post\"])\n",
        "res"
      ],
      "execution_count": 0,
      "outputs": [
        {
          "output_type": "execute_result",
          "data": {
            "text/html": [
              "<div>\n",
              "<style scoped>\n",
              "    .dataframe tbody tr th:only-of-type {\n",
              "        vertical-align: middle;\n",
              "    }\n",
              "\n",
              "    .dataframe tbody tr th {\n",
              "        vertical-align: top;\n",
              "    }\n",
              "\n",
              "    .dataframe thead th {\n",
              "        text-align: right;\n",
              "    }\n",
              "</style>\n",
              "<table border=\"1\" class=\"dataframe\">\n",
              "  <thead>\n",
              "    <tr style=\"text-align: right;\">\n",
              "      <th></th>\n",
              "      <th>theta</th>\n",
              "      <th>jointlik</th>\n",
              "      <th>prior</th>\n",
              "      <th>unnorm_post</th>\n",
              "      <th>post</th>\n",
              "    </tr>\n",
              "  </thead>\n",
              "  <tbody>\n",
              "    <tr>\n",
              "      <th>0</th>\n",
              "      <td>0.05</td>\n",
              "      <td>0.000125</td>\n",
              "      <td>0.052632</td>\n",
              "      <td>0.000007</td>\n",
              "      <td>0.000028</td>\n",
              "    </tr>\n",
              "    <tr>\n",
              "      <th>1</th>\n",
              "      <td>0.10</td>\n",
              "      <td>0.001000</td>\n",
              "      <td>0.052632</td>\n",
              "      <td>0.000053</td>\n",
              "      <td>0.000222</td>\n",
              "    </tr>\n",
              "    <tr>\n",
              "      <th>2</th>\n",
              "      <td>0.15</td>\n",
              "      <td>0.003375</td>\n",
              "      <td>0.052632</td>\n",
              "      <td>0.000178</td>\n",
              "      <td>0.000748</td>\n",
              "    </tr>\n",
              "    <tr>\n",
              "      <th>3</th>\n",
              "      <td>0.20</td>\n",
              "      <td>0.008000</td>\n",
              "      <td>0.052632</td>\n",
              "      <td>0.000421</td>\n",
              "      <td>0.001773</td>\n",
              "    </tr>\n",
              "    <tr>\n",
              "      <th>4</th>\n",
              "      <td>0.25</td>\n",
              "      <td>0.015625</td>\n",
              "      <td>0.052632</td>\n",
              "      <td>0.000822</td>\n",
              "      <td>0.003463</td>\n",
              "    </tr>\n",
              "    <tr>\n",
              "      <th>5</th>\n",
              "      <td>0.30</td>\n",
              "      <td>0.027000</td>\n",
              "      <td>0.052632</td>\n",
              "      <td>0.001421</td>\n",
              "      <td>0.005983</td>\n",
              "    </tr>\n",
              "    <tr>\n",
              "      <th>6</th>\n",
              "      <td>0.35</td>\n",
              "      <td>0.042875</td>\n",
              "      <td>0.052632</td>\n",
              "      <td>0.002257</td>\n",
              "      <td>0.009501</td>\n",
              "    </tr>\n",
              "    <tr>\n",
              "      <th>7</th>\n",
              "      <td>0.40</td>\n",
              "      <td>0.064000</td>\n",
              "      <td>0.052632</td>\n",
              "      <td>0.003368</td>\n",
              "      <td>0.014183</td>\n",
              "    </tr>\n",
              "    <tr>\n",
              "      <th>8</th>\n",
              "      <td>0.45</td>\n",
              "      <td>0.091125</td>\n",
              "      <td>0.052632</td>\n",
              "      <td>0.004796</td>\n",
              "      <td>0.020194</td>\n",
              "    </tr>\n",
              "    <tr>\n",
              "      <th>9</th>\n",
              "      <td>0.50</td>\n",
              "      <td>0.125000</td>\n",
              "      <td>0.052632</td>\n",
              "      <td>0.006579</td>\n",
              "      <td>0.027701</td>\n",
              "    </tr>\n",
              "    <tr>\n",
              "      <th>10</th>\n",
              "      <td>0.55</td>\n",
              "      <td>0.166375</td>\n",
              "      <td>0.052632</td>\n",
              "      <td>0.008757</td>\n",
              "      <td>0.036870</td>\n",
              "    </tr>\n",
              "    <tr>\n",
              "      <th>11</th>\n",
              "      <td>0.60</td>\n",
              "      <td>0.216000</td>\n",
              "      <td>0.052632</td>\n",
              "      <td>0.011368</td>\n",
              "      <td>0.047867</td>\n",
              "    </tr>\n",
              "    <tr>\n",
              "      <th>12</th>\n",
              "      <td>0.65</td>\n",
              "      <td>0.274625</td>\n",
              "      <td>0.052632</td>\n",
              "      <td>0.014454</td>\n",
              "      <td>0.060859</td>\n",
              "    </tr>\n",
              "    <tr>\n",
              "      <th>13</th>\n",
              "      <td>0.70</td>\n",
              "      <td>0.343000</td>\n",
              "      <td>0.052632</td>\n",
              "      <td>0.018053</td>\n",
              "      <td>0.076011</td>\n",
              "    </tr>\n",
              "    <tr>\n",
              "      <th>14</th>\n",
              "      <td>0.75</td>\n",
              "      <td>0.421875</td>\n",
              "      <td>0.052632</td>\n",
              "      <td>0.022204</td>\n",
              "      <td>0.093490</td>\n",
              "    </tr>\n",
              "    <tr>\n",
              "      <th>15</th>\n",
              "      <td>0.80</td>\n",
              "      <td>0.512000</td>\n",
              "      <td>0.052632</td>\n",
              "      <td>0.026947</td>\n",
              "      <td>0.113463</td>\n",
              "    </tr>\n",
              "    <tr>\n",
              "      <th>16</th>\n",
              "      <td>0.85</td>\n",
              "      <td>0.614125</td>\n",
              "      <td>0.052632</td>\n",
              "      <td>0.032322</td>\n",
              "      <td>0.136094</td>\n",
              "    </tr>\n",
              "    <tr>\n",
              "      <th>17</th>\n",
              "      <td>0.90</td>\n",
              "      <td>0.729000</td>\n",
              "      <td>0.052632</td>\n",
              "      <td>0.038368</td>\n",
              "      <td>0.161551</td>\n",
              "    </tr>\n",
              "    <tr>\n",
              "      <th>18</th>\n",
              "      <td>0.95</td>\n",
              "      <td>0.857375</td>\n",
              "      <td>0.052632</td>\n",
              "      <td>0.045125</td>\n",
              "      <td>0.190000</td>\n",
              "    </tr>\n",
              "  </tbody>\n",
              "</table>\n",
              "</div>"
            ],
            "text/plain": [
              "    theta  jointlik     prior  unnorm_post      post\n",
              "0    0.05  0.000125  0.052632     0.000007  0.000028\n",
              "1    0.10  0.001000  0.052632     0.000053  0.000222\n",
              "2    0.15  0.003375  0.052632     0.000178  0.000748\n",
              "3    0.20  0.008000  0.052632     0.000421  0.001773\n",
              "4    0.25  0.015625  0.052632     0.000822  0.003463\n",
              "5    0.30  0.027000  0.052632     0.001421  0.005983\n",
              "6    0.35  0.042875  0.052632     0.002257  0.009501\n",
              "7    0.40  0.064000  0.052632     0.003368  0.014183\n",
              "8    0.45  0.091125  0.052632     0.004796  0.020194\n",
              "9    0.50  0.125000  0.052632     0.006579  0.027701\n",
              "10   0.55  0.166375  0.052632     0.008757  0.036870\n",
              "11   0.60  0.216000  0.052632     0.011368  0.047867\n",
              "12   0.65  0.274625  0.052632     0.014454  0.060859\n",
              "13   0.70  0.343000  0.052632     0.018053  0.076011\n",
              "14   0.75  0.421875  0.052632     0.022204  0.093490\n",
              "15   0.80  0.512000  0.052632     0.026947  0.113463\n",
              "16   0.85  0.614125  0.052632     0.032322  0.136094\n",
              "17   0.90  0.729000  0.052632     0.038368  0.161551\n",
              "18   0.95  0.857375  0.052632     0.045125  0.190000"
            ]
          },
          "metadata": {
            "tags": []
          },
          "execution_count": 9
        }
      ]
    },
    {
      "cell_type": "markdown",
      "metadata": {
        "colab_type": "text",
        "id": "7qRHkk9Qznam"
      },
      "source": [
        "### Posterior and prior for $\\theta$\n",
        "\n",
        "Let's plot the prior and the posterior for $\\theta$"
      ]
    },
    {
      "cell_type": "code",
      "metadata": {
        "colab_type": "code",
        "id": "7z6X_zLbO6YJ",
        "outputId": "bde1cbed-ff68-4d0d-d0bd-bfa163b31d60",
        "colab": {
          "base_uri": "https://localhost:8080/",
          "height": 421
        }
      },
      "source": [
        "plt.figure(figsize=(16,6))\n",
        "plt.subplot(1,2,1)\n",
        "plt.stem(res[\"theta\"],res[\"prior\"],use_line_collection=True)\n",
        "plt.xlabel(\"theta\")\n",
        "plt.ylabel(\"probability\")\n",
        "plt.ylim([0,0.5])\n",
        "plt.title(\"prior distribution\")\n",
        "plt.subplot(1,2,2)\n",
        "plt.stem(res[\"theta\"],res[\"post\"],use_line_collection=True)\n",
        "plt.ylim([0,0.5])\n",
        "plt.xlabel(\"theta\")\n",
        "plt.ylabel(\"probability\")\n",
        "plt.title(\"posterior distribution\")"
      ],
      "execution_count": 0,
      "outputs": [
        {
          "output_type": "execute_result",
          "data": {
            "text/plain": [
              "Text(0.5, 1.0, 'posterior distribution')"
            ]
          },
          "metadata": {
            "tags": []
          },
          "execution_count": 10
        },
        {
          "output_type": "display_data",
          "data": {
            "image/png": "[encoded data removed]",
            "text/plain": [
              "<Figure size 1152x432 with 2 Axes>"
            ]
          },
          "metadata": {
            "tags": []
          }
        }
      ]
    },
    {
      "cell_type": "markdown",
      "metadata": {
        "colab_type": "text",
        "id": "6qwjotjbfUSq"
      },
      "source": [
        "### Posterior and prior for head\n",
        "\n",
        "The predictive distribution is given by\n",
        "\n",
        "$\n",
        "p(y|D)=\\sum_i p(y|\\theta_i)p(\\theta_i|D)\n",
        "$\n",
        "\n",
        "For the probability of head, we have $\\theta_i = p(y=1|\\theta_i)$. For $p(\\theta_i|D)$, we first use the posterior distribution resulting in\n",
        "\n",
        "$\n",
        "  p(y=1|D) = \\sum_i \\theta_i p(\\theta_i|D)\n",
        "$"
      ]
    },
    {
      "cell_type": "code",
      "metadata": {
        "colab_type": "code",
        "id": "2qpa4ewsiGHL",
        "outputId": "dd9d3072-cad8-43da-9cbe-15ab1e179cf7",
        "colab": {
          "base_uri": "https://localhost:8080/",
          "height": 34
        }
      },
      "source": [
        "py1_post = np.sum((res[\"theta\"])*res[\"post\"])\n",
        "py0_post = 1.0 - py1_post\n",
        "py0_post, py1_post"
      ],
      "execution_count": 0,
      "outputs": [
        {
          "output_type": "execute_result",
          "data": {
            "text/plain": [
              "(0.22068421371448932, 0.7793157862855107)"
            ]
          },
          "metadata": {
            "tags": []
          },
          "execution_count": 11
        }
      ]
    },
    {
      "cell_type": "markdown",
      "metadata": {
        "colab_type": "text",
        "id": "yc7754pHiWxE"
      },
      "source": [
        "Similar, you get for the prior distributions: "
      ]
    },
    {
      "cell_type": "code",
      "metadata": {
        "colab_type": "code",
        "id": "PrL-DoWhhiuC",
        "outputId": "f48ad2e1-4963-4e73-cf27-986a21c886a0",
        "colab": {
          "base_uri": "https://localhost:8080/",
          "height": 34
        }
      },
      "source": [
        "py1_prior = np.sum((res[\"theta\"])*res[\"prior\"]) \n",
        "py0_prior = 1 - py1_prior\n",
        "py0_prior, py1_prior"
      ],
      "execution_count": 0,
      "outputs": [
        {
          "output_type": "execute_result",
          "data": {
            "text/plain": [
              "(0.5, 0.5)"
            ]
          },
          "metadata": {
            "tags": []
          },
          "execution_count": 12
        }
      ]
    },
    {
      "cell_type": "markdown",
      "metadata": {
        "colab_type": "text",
        "id": "KVhF4bDJiwlT"
      },
      "source": [
        "We plot this togther with the figure above.  "
      ]
    },
    {
      "cell_type": "code",
      "metadata": {
        "colab_type": "code",
        "id": "T79DCZEOuwb4",
        "outputId": "fb95bf2d-2599-41a9-82e3-f52b2e5c790d",
        "colab": {
          "base_uri": "https://localhost:8080/",
          "height": 730
        }
      },
      "source": [
        "plt.figure(figsize=(16,12))\n",
        "\n",
        "plt.subplot(2,2,1)\n",
        "plt.stem(res[\"theta\"],res[\"prior\"],use_line_collection=True)\n",
        "plt.xlabel(\"theta\")\n",
        "plt.ylabel(\"probability\")\n",
        "plt.ylim([0,0.5])\n",
        "plt.title(\"prior distribution for theta\")\n",
        "plt.subplot(2,2,2)\n",
        "plt.stem(res[\"theta\"],res[\"post\"],use_line_collection=True)\n",
        "plt.ylim([0,0.5])\n",
        "plt.xlabel(\"theta\")\n",
        "plt.ylabel(\"probability\")\n",
        "plt.title(\"posterior distribution for theta\")\n",
        "plt.savefig(\"test.pdf\")\n",
        "\n",
        "plt.subplot(2,2,3)\n",
        "plt.stem([0,1],[py0_prior,py1_prior],use_line_collection=True)\n",
        "plt.xlabel(\"Y\")\n",
        "plt.ylabel(\"P(y)\")\n",
        "plt.ylim([0,1])\n",
        "plt.title(\"prior predictive distribution\")\n",
        "plt.subplot(2,2,4)\n",
        "plt.stem([0,1],[py0_post,py1_post],use_line_collection=True)\n",
        "plt.ylim([0,1])\n",
        "plt.xlabel(\"Y\")\n",
        "plt.ylabel(\"P(y)\")\n",
        "plt.title(\"posterior predictive distribution\")\n",
        "plt.show()"
      ],
      "execution_count": 0,
      "outputs": [
        {
          "output_type": "display_data",
          "data": {
            "image/png": "[encoded data removed]",
            "text/plain": [
              "<Figure size 1152x864 with 4 Axes>"
            ]
          },
          "metadata": {
            "tags": []
          }
        }
      ]
    },
    {
      "cell_type": "markdown",
      "metadata": {
        "colab_type": "text",
        "id": "6O-XLU9BYy7T"
      },
      "source": [
        "### Posterior and the predictive distribution for different observed data\n",
        "\n",
        "*Exercise: Let's assume fist you observed 40 times head and then you observed 11 times head and 9 times tail. How does the posterior and the predictive distribution look, for these two cases?*"
      ]
    },
    {
      "cell_type": "code",
      "metadata": {
        "colab_type": "code",
        "id": "dUrZY3abdBPz",
        "colab": {}
      },
      "source": [
        "# Write your code here"
      ],
      "execution_count": 0,
      "outputs": []
    },
    {
      "cell_type": "code",
      "metadata": {
        "colab_type": "code",
        "id": "2oCpkvDAMHUV",
        "colab": {}
      },
      "source": [
        "obs_data=np.repeat(1,40)\n",
        "theta=np.arange(0.05,1,0.05)\n",
        "RES=np.zeros((len(theta),5))\n",
        "for i in range(0,len(theta)):\n",
        "  dist = tfp.distributions.Bernoulli(probs=theta[i])   \n",
        "  RES[i,0:4]=np.array((theta[i],np.prod(dist.prob(obs_data)),prior,np.prod(dist.prob(obs_data))*prior))\n",
        "RES=pd.DataFrame(RES,columns=[\"theta\",\"jointlik\",\"prior\",\"unnorm_post\",\"post\"])\n",
        "RES[\"post\"]=RES[\"unnorm_post\"]/np.sum(RES[\"unnorm_post\"])  "
      ],
      "execution_count": 0,
      "outputs": []
    },
    {
      "cell_type": "code",
      "metadata": {
        "colab_type": "code",
        "id": "QjfdqUiLMHUa",
        "outputId": "85fbb8af-7e93-4fe0-f569-82056973fe80",
        "colab": {
          "base_uri": "https://localhost:8080/",
          "height": 404
        }
      },
      "source": [
        "plt.figure(figsize=(16,6))\n",
        "plt.subplot(1,2,1)\n",
        "plt.stem(RES[\"theta\"],RES[\"post\"],use_line_collection=True)\n",
        "plt.ylim([0,1])\n",
        "plt.xlabel(\"theta\")\n",
        "plt.ylabel(\"probability\")\n",
        "plt.title(\"posterior distribution\")\n",
        "plt.subplot(1,2,2)\n",
        "plt.stem([0,1],[np.sum((1-RES[\"theta\"])*RES[\"post\"]),np.sum((RES[\"theta\"])*RES[\"post\"])],use_line_collection=True)\n",
        "plt.ylim([0,1])\n",
        "plt.xlabel(\"Y\")\n",
        "plt.ylabel(\"P(y)\")\n",
        "plt.title(\"posterior distribution\")\n",
        "plt.show()\n"
      ],
      "execution_count": 0,
      "outputs": [
        {
          "output_type": "display_data",
          "data": {
            "image/png": "[encoded data removed]",
            "text/plain": [
              "<Figure size 1152x432 with 2 Axes>"
            ]
          },
          "metadata": {
            "tags": []
          }
        }
      ]
    },
    {
      "cell_type": "code",
      "metadata": {
        "colab_type": "code",
        "id": "sehkxNCba6oz",
        "outputId": "7c8a6c10-0e12-429b-9a4d-434e8c29dbd2",
        "colab": {
          "base_uri": "https://localhost:8080/",
          "height": 34
        }
      },
      "source": [
        "[np.sum((1-RES[\"theta\"])*RES[\"post\"]),np.sum((RES[\"theta\"])*RES[\"post\"])]"
      ],
      "execution_count": 0,
      "outputs": [
        {
          "output_type": "execute_result",
          "data": {
            "text/plain": [
              "[0.0562881296408708, 0.9437118703591292]"
            ]
          },
          "metadata": {
            "tags": []
          },
          "execution_count": 17
        }
      ]
    },
    {
      "cell_type": "code",
      "metadata": {
        "colab_type": "code",
        "id": "i1iP-dYYbZm0",
        "colab": {}
      },
      "source": [
        "obs_data=np.concatenate((np.repeat(1,11),np.repeat(0,9)))\n",
        "theta=np.arange(0.05,1,0.05)\n",
        "RES=np.zeros((len(theta),5))\n",
        "for i in range(0,len(theta)):\n",
        "  dist = tfp.distributions.Bernoulli(probs=theta[i])   \n",
        "  RES[i,0:4]=np.array((theta[i],np.prod(dist.prob(obs_data)),prior,np.prod(dist.prob(obs_data))*prior))\n",
        "RES=pd.DataFrame(RES,columns=[\"theta\",\"jointlik\",\"prior\",\"unnorm_post\",\"post\"])\n",
        "RES[\"post\"]=RES[\"unnorm_post\"]/np.sum(RES[\"unnorm_post\"])  "
      ],
      "execution_count": 0,
      "outputs": []
    },
    {
      "cell_type": "code",
      "metadata": {
        "colab_type": "code",
        "id": "Rjc99SMScz-q",
        "outputId": "8609a2d0-af5f-4e3c-87fb-80d04f8bbd1c",
        "colab": {
          "base_uri": "https://localhost:8080/",
          "height": 404
        }
      },
      "source": [
        "plt.figure(figsize=(16,6))\n",
        "plt.subplot(1,2,1)\n",
        "plt.stem(RES[\"theta\"],RES[\"post\"],use_line_collection=True)\n",
        "plt.ylim([0,1])\n",
        "plt.xlabel(\"theta\")\n",
        "plt.ylabel(\"probability\")\n",
        "plt.title(\"posterior distribution\")\n",
        "plt.subplot(1,2,2)\n",
        "plt.stem([0,1],[np.sum((1-RES[\"theta\"])*RES[\"post\"]),np.sum((RES[\"theta\"])*RES[\"post\"])],use_line_collection=True)\n",
        "plt.ylim([0,1])\n",
        "plt.xlabel(\"Y\")\n",
        "plt.ylabel(\"P(y)\")\n",
        "plt.title(\"posterior distribution\")\n",
        "plt.show()\n"
      ],
      "execution_count": 0,
      "outputs": [
        {
          "output_type": "display_data",
          "data": {
            "image/png": "[encoded data removed]",
            "text/plain": [
              "<Figure size 1152x432 with 2 Axes>"
            ]
          },
          "metadata": {
            "tags": []
          }
        }
      ]
    },
    {
      "cell_type": "code",
      "metadata": {
        "colab_type": "code",
        "id": "5qiJsGftc4HE",
        "outputId": "f70d39fd-26b6-4da7-de4e-eebcc6656809",
        "colab": {
          "base_uri": "https://localhost:8080/",
          "height": 34
        }
      },
      "source": [
        "[np.sum((1-RES[\"theta\"])*RES[\"post\"]),np.sum((RES[\"theta\"])*RES[\"post\"])]"
      ],
      "execution_count": 0,
      "outputs": [
        {
          "output_type": "execute_result",
          "data": {
            "text/plain": [
              "[0.45454546278196234, 0.5454545372180377]"
            ]
          },
          "metadata": {
            "tags": []
          },
          "execution_count": 20
        }
      ]
    },
    {
      "cell_type": "markdown",
      "metadata": {
        "colab_type": "text",
        "id": "yL6K_2GlpO8W"
      },
      "source": [
        "### Different prior\n",
        "\n",
        "*Exercise 2: Let's now repeat the experiment with a non-uniform distributed prior. You will use a halfcircle as prior. With this prior calculate again the posterior when you fist observe 40 times head and then you observed 11 times head and 9 times tail. How does the posterior and the predictive distribution look with the new prior?*"
      ]
    },
    {
      "cell_type": "code",
      "metadata": {
        "colab_type": "code",
        "id": "T-lnHLIPc6yp",
        "colab": {}
      },
      "source": [
        "prior=np.sqrt(np.square(0.5)-np.square(theta-0.5))-0.2\n",
        "prior=prior/np.sum(prior)#normalzation"
      ],
      "execution_count": 0,
      "outputs": []
    },
    {
      "cell_type": "code",
      "metadata": {
        "colab_type": "code",
        "id": "eX5soBHCq46R",
        "outputId": "bc0642cf-38d4-4715-fde8-d1c019290ba8",
        "colab": {
          "base_uri": "https://localhost:8080/",
          "height": 282
        }
      },
      "source": [
        "plt.stem(theta,prior,use_line_collection=True)\n",
        "plt.xlim([0,1])"
      ],
      "execution_count": 0,
      "outputs": [
        {
          "output_type": "execute_result",
          "data": {
            "text/plain": [
              "(0.0, 1.0)"
            ]
          },
          "metadata": {
            "tags": []
          },
          "execution_count": 22
        },
        {
          "output_type": "display_data",
          "data": {
            "image/png": "[encoded data removed]",
            "text/plain": [
              "<Figure size 432x288 with 1 Axes>"
            ]
          },
          "metadata": {
            "tags": []
          }
        }
      ]
    },
    {
      "cell_type": "code",
      "metadata": {
        "id": "Lmxy5_n77jbD",
        "colab_type": "code",
        "colab": {}
      },
      "source": [
        "# Write your code here"
      ],
      "execution_count": 0,
      "outputs": []
    },
    {
      "cell_type": "code",
      "metadata": {
        "colab_type": "code",
        "id": "Q4kQ4H9eq7qg",
        "outputId": "8c470250-a769-4706-bf98-c0bc6ccb838a",
        "colab": {
          "base_uri": "https://localhost:8080/",
          "height": 638
        }
      },
      "source": [
        "obs_data=np.repeat(1,40)\n",
        "theta=np.arange(0.05,1,0.05)\n",
        "RES=np.zeros((len(theta),5))\n",
        "for i in range(0,len(theta)):\n",
        "  dist = tfp.distributions.Bernoulli(probs=theta[i])   \n",
        "  RES[i,0:4]=np.array((theta[i],np.prod(dist.prob(obs_data)),prior[i],np.prod(dist.prob(obs_data))*prior[i]))\n",
        "RES=pd.DataFrame(RES,columns=[\"theta\",\"jointlik\",\"prior\",\"unnorm_post\",\"post\"])\n",
        "RES[\"post\"]=RES[\"unnorm_post\"]/np.sum(RES[\"unnorm_post\"])  \n",
        "RES"
      ],
      "execution_count": 0,
      "outputs": [
        {
          "output_type": "execute_result",
          "data": {
            "text/html": [
              "<div>\n",
              "<style scoped>\n",
              "    .dataframe tbody tr th:only-of-type {\n",
              "        vertical-align: middle;\n",
              "    }\n",
              "\n",
              "    .dataframe tbody tr th {\n",
              "        vertical-align: top;\n",
              "    }\n",
              "\n",
              "    .dataframe thead th {\n",
              "        text-align: right;\n",
              "    }\n",
              "</style>\n",
              "<table border=\"1\" class=\"dataframe\">\n",
              "  <thead>\n",
              "    <tr style=\"text-align: right;\">\n",
              "      <th></th>\n",
              "      <th>theta</th>\n",
              "      <th>jointlik</th>\n",
              "      <th>prior</th>\n",
              "      <th>unnorm_post</th>\n",
              "      <th>post</th>\n",
              "    </tr>\n",
              "  </thead>\n",
              "  <tbody>\n",
              "    <tr>\n",
              "      <th>0</th>\n",
              "      <td>0.05</td>\n",
              "      <td>0.000000e+00</td>\n",
              "      <td>0.004530</td>\n",
              "      <td>0.000000e+00</td>\n",
              "      <td>0.000000e+00</td>\n",
              "    </tr>\n",
              "    <tr>\n",
              "      <th>1</th>\n",
              "      <td>0.10</td>\n",
              "      <td>9.999946e-41</td>\n",
              "      <td>0.025244</td>\n",
              "      <td>2.524413e-42</td>\n",
              "      <td>2.469553e-39</td>\n",
              "    </tr>\n",
              "    <tr>\n",
              "      <th>2</th>\n",
              "      <td>0.15</td>\n",
              "      <td>1.105735e-33</td>\n",
              "      <td>0.039652</td>\n",
              "      <td>4.384408e-35</td>\n",
              "      <td>4.289127e-32</td>\n",
              "    </tr>\n",
              "    <tr>\n",
              "      <th>3</th>\n",
              "      <td>0.20</td>\n",
              "      <td>1.099509e-28</td>\n",
              "      <td>0.050489</td>\n",
              "      <td>5.551260e-30</td>\n",
              "      <td>5.430620e-27</td>\n",
              "    </tr>\n",
              "    <tr>\n",
              "      <th>4</th>\n",
              "      <td>0.25</td>\n",
              "      <td>8.271806e-25</td>\n",
              "      <td>0.058822</td>\n",
              "      <td>4.865670e-26</td>\n",
              "      <td>4.759930e-23</td>\n",
              "    </tr>\n",
              "    <tr>\n",
              "      <th>5</th>\n",
              "      <td>0.30</td>\n",
              "      <td>1.215769e-21</td>\n",
              "      <td>0.065195</td>\n",
              "      <td>7.926231e-23</td>\n",
              "      <td>7.753978e-20</td>\n",
              "    </tr>\n",
              "    <tr>\n",
              "      <th>6</th>\n",
              "      <td>0.35</td>\n",
              "      <td>5.790592e-19</td>\n",
              "      <td>0.069919</td>\n",
              "      <td>4.048721e-20</td>\n",
              "      <td>3.960734e-17</td>\n",
              "    </tr>\n",
              "    <tr>\n",
              "      <th>7</th>\n",
              "      <td>0.40</td>\n",
              "      <td>1.208927e-16</td>\n",
              "      <td>0.073183</td>\n",
              "      <td>8.847244e-18</td>\n",
              "      <td>8.654976e-15</td>\n",
              "    </tr>\n",
              "    <tr>\n",
              "      <th>8</th>\n",
              "      <td>0.45</td>\n",
              "      <td>1.344312e-14</td>\n",
              "      <td>0.075100</td>\n",
              "      <td>1.009580e-15</td>\n",
              "      <td>9.876396e-13</td>\n",
              "    </tr>\n",
              "    <tr>\n",
              "      <th>9</th>\n",
              "      <td>0.50</td>\n",
              "      <td>9.094947e-13</td>\n",
              "      <td>0.075733</td>\n",
              "      <td>6.887857e-14</td>\n",
              "      <td>6.738171e-11</td>\n",
              "    </tr>\n",
              "    <tr>\n",
              "      <th>10</th>\n",
              "      <td>0.55</td>\n",
              "      <td>4.116308e-11</td>\n",
              "      <td>0.075100</td>\n",
              "      <td>3.091352e-12</td>\n",
              "      <td>3.024171e-09</td>\n",
              "    </tr>\n",
              "    <tr>\n",
              "      <th>11</th>\n",
              "      <td>0.60</td>\n",
              "      <td>1.336752e-09</td>\n",
              "      <td>0.073183</td>\n",
              "      <td>9.782697e-11</td>\n",
              "      <td>9.570100e-08</td>\n",
              "    </tr>\n",
              "    <tr>\n",
              "      <th>12</th>\n",
              "      <td>0.65</td>\n",
              "      <td>3.284987e-08</td>\n",
              "      <td>0.069919</td>\n",
              "      <td>2.296828e-09</td>\n",
              "      <td>2.246914e-06</td>\n",
              "    </tr>\n",
              "    <tr>\n",
              "      <th>13</th>\n",
              "      <td>0.70</td>\n",
              "      <td>6.366802e-07</td>\n",
              "      <td>0.065195</td>\n",
              "      <td>4.150851e-08</td>\n",
              "      <td>4.060645e-05</td>\n",
              "    </tr>\n",
              "    <tr>\n",
              "      <th>14</th>\n",
              "      <td>0.75</td>\n",
              "      <td>1.005658e-05</td>\n",
              "      <td>0.058822</td>\n",
              "      <td>5.915519e-07</td>\n",
              "      <td>5.786963e-04</td>\n",
              "    </tr>\n",
              "    <tr>\n",
              "      <th>15</th>\n",
              "      <td>0.80</td>\n",
              "      <td>1.329225e-04</td>\n",
              "      <td>0.050489</td>\n",
              "      <td>6.711061e-06</td>\n",
              "      <td>6.565217e-03</td>\n",
              "    </tr>\n",
              "    <tr>\n",
              "      <th>16</th>\n",
              "      <td>0.85</td>\n",
              "      <td>1.502303e-03</td>\n",
              "      <td>0.039652</td>\n",
              "      <td>5.956860e-05</td>\n",
              "      <td>5.827406e-02</td>\n",
              "    </tr>\n",
              "    <tr>\n",
              "      <th>17</th>\n",
              "      <td>0.90</td>\n",
              "      <td>1.478087e-02</td>\n",
              "      <td>0.025244</td>\n",
              "      <td>3.731321e-04</td>\n",
              "      <td>3.650232e-01</td>\n",
              "    </tr>\n",
              "    <tr>\n",
              "      <th>18</th>\n",
              "      <td>0.95</td>\n",
              "      <td>1.285118e-01</td>\n",
              "      <td>0.004530</td>\n",
              "      <td>5.821675e-04</td>\n",
              "      <td>5.695158e-01</td>\n",
              "    </tr>\n",
              "  </tbody>\n",
              "</table>\n",
              "</div>"
            ],
            "text/plain": [
              "    theta      jointlik     prior   unnorm_post          post\n",
              "0    0.05  0.000000e+00  0.004530  0.000000e+00  0.000000e+00\n",
              "1    0.10  9.999946e-41  0.025244  2.524413e-42  2.469553e-39\n",
              "2    0.15  1.105735e-33  0.039652  4.384408e-35  4.289127e-32\n",
              "3    0.20  1.099509e-28  0.050489  5.551260e-30  5.430620e-27\n",
              "4    0.25  8.271806e-25  0.058822  4.865670e-26  4.759930e-23\n",
              "5    0.30  1.215769e-21  0.065195  7.926231e-23  7.753978e-20\n",
              "6    0.35  5.790592e-19  0.069919  4.048721e-20  3.960734e-17\n",
              "7    0.40  1.208927e-16  0.073183  8.847244e-18  8.654976e-15\n",
              "8    0.45  1.344312e-14  0.075100  1.009580e-15  9.876396e-13\n",
              "9    0.50  9.094947e-13  0.075733  6.887857e-14  6.738171e-11\n",
              "10   0.55  4.116308e-11  0.075100  3.091352e-12  3.024171e-09\n",
              "11   0.60  1.336752e-09  0.073183  9.782697e-11  9.570100e-08\n",
              "12   0.65  3.284987e-08  0.069919  2.296828e-09  2.246914e-06\n",
              "13   0.70  6.366802e-07  0.065195  4.150851e-08  4.060645e-05\n",
              "14   0.75  1.005658e-05  0.058822  5.915519e-07  5.786963e-04\n",
              "15   0.80  1.329225e-04  0.050489  6.711061e-06  6.565217e-03\n",
              "16   0.85  1.502303e-03  0.039652  5.956860e-05  5.827406e-02\n",
              "17   0.90  1.478087e-02  0.025244  3.731321e-04  3.650232e-01\n",
              "18   0.95  1.285118e-01  0.004530  5.821675e-04  5.695158e-01"
            ]
          },
          "metadata": {
            "tags": []
          },
          "execution_count": 24
        }
      ]
    },
    {
      "cell_type": "code",
      "metadata": {
        "colab_type": "code",
        "id": "WtHtCIcm8nkB",
        "outputId": "6ccc3549-3d2a-4a91-86cc-03e88a3e4eef",
        "colab": {
          "base_uri": "https://localhost:8080/",
          "height": 404
        }
      },
      "source": [
        "plt.figure(figsize=(16,6))\n",
        "plt.subplot(1,2,1)\n",
        "plt.stem([0,1],[np.sum((1-RES[\"theta\"])*RES[\"prior\"]),np.sum((RES[\"theta\"])*RES[\"prior\"])],use_line_collection=True)\n",
        "plt.xlabel(\"Y\")\n",
        "plt.ylabel(\"P(y)\")\n",
        "plt.ylim([0,1])\n",
        "plt.title(\"prior distribution\")\n",
        "plt.subplot(1,2,2)\n",
        "plt.stem([0,1],[np.sum((1-RES[\"theta\"])*RES[\"post\"]),np.sum((RES[\"theta\"])*RES[\"post\"])],use_line_collection=True)\n",
        "plt.ylim([0,1])\n",
        "plt.xlabel(\"Y\")\n",
        "plt.ylabel(\"P(y)\")\n",
        "plt.title(\"posterior distribution\")\n",
        "plt.show()"
      ],
      "execution_count": 0,
      "outputs": [
        {
          "output_type": "display_data",
          "data": {
            "image/png": "[encoded data removed]",
            "text/plain": [
              "<Figure size 1152x432 with 2 Axes>"
            ]
          },
          "metadata": {
            "tags": []
          }
        }
      ]
    },
    {
      "cell_type": "code",
      "metadata": {
        "colab_type": "code",
        "id": "ImpZYlWO74l3",
        "outputId": "16065835-5ff2-4774-c7df-0efcddd44511",
        "colab": {
          "base_uri": "https://localhost:8080/",
          "height": 404
        }
      },
      "source": [
        "plt.figure(figsize=(16,6))\n",
        "plt.subplot(1,2,1)\n",
        "plt.stem(RES[\"theta\"],RES[\"post\"],use_line_collection=True)\n",
        "plt.ylim([0,1])\n",
        "plt.xlabel(\"theta\")\n",
        "plt.ylabel(\"probability\")\n",
        "plt.title(\"posterior distribution\")\n",
        "plt.subplot(1,2,2)\n",
        "plt.stem([0,1],[np.sum((1-RES[\"theta\"])*RES[\"post\"]),np.sum((RES[\"theta\"])*RES[\"post\"])],use_line_collection=True)\n",
        "plt.ylim([0,1])\n",
        "plt.xlabel(\"Y\")\n",
        "plt.ylabel(\"P(y)\")\n",
        "plt.title(\"posterior distribution\")\n",
        "plt.show()\n"
      ],
      "execution_count": 0,
      "outputs": [
        {
          "output_type": "display_data",
          "data": {
            "image/png": "[encoded data removed]",
            "text/plain": [
              "<Figure size 1152x432 with 2 Axes>"
            ]
          },
          "metadata": {
            "tags": []
          }
        }
      ]
    },
    {
      "cell_type": "code",
      "metadata": {
        "colab_type": "code",
        "id": "PQYqEkvc8O5S",
        "outputId": "77b6bb0d-dcf7-4194-e66a-7784595e7251",
        "colab": {
          "base_uri": "https://localhost:8080/",
          "height": 34
        }
      },
      "source": [
        "[np.sum((1-RES[\"theta\"])*RES[\"post\"]),np.sum((RES[\"theta\"])*RES[\"post\"])]"
      ],
      "execution_count": 0,
      "outputs": [
        {
          "output_type": "execute_result",
          "data": {
            "text/plain": [
              "[0.07518995042189493, 0.9248100495781051]"
            ]
          },
          "metadata": {
            "tags": []
          },
          "execution_count": 27
        }
      ]
    },
    {
      "cell_type": "code",
      "metadata": {
        "colab_type": "code",
        "id": "Am6ntqgi8Usa",
        "outputId": "d2cbbb3c-4aa8-49bf-b0c0-e9874bc42d19",
        "colab": {
          "base_uri": "https://localhost:8080/",
          "height": 638
        }
      },
      "source": [
        "obs_data=np.concatenate((np.repeat(1,11),np.repeat(0,9)))\n",
        "theta=np.arange(0.05,1,0.05)\n",
        "RES=np.zeros((len(theta),5))\n",
        "for i in range(0,len(theta)):\n",
        "  dist = tfp.distributions.Bernoulli(probs=theta[i])   \n",
        "  RES[i,0:4]=np.array((theta[i],np.prod(dist.prob(obs_data)),prior[i],np.prod(dist.prob(obs_data))*prior[i]))\n",
        "RES=pd.DataFrame(RES,columns=[\"theta\",\"jointlik\",\"prior\",\"unnorm_post\",\"post\"])\n",
        "RES[\"post\"]=RES[\"unnorm_post\"]/np.sum(RES[\"unnorm_post\"])  \n",
        "RES"
      ],
      "execution_count": 0,
      "outputs": [
        {
          "output_type": "execute_result",
          "data": {
            "text/html": [
              "<div>\n",
              "<style scoped>\n",
              "    .dataframe tbody tr th:only-of-type {\n",
              "        vertical-align: middle;\n",
              "    }\n",
              "\n",
              "    .dataframe tbody tr th {\n",
              "        vertical-align: top;\n",
              "    }\n",
              "\n",
              "    .dataframe thead th {\n",
              "        text-align: right;\n",
              "    }\n",
              "</style>\n",
              "<table border=\"1\" class=\"dataframe\">\n",
              "  <thead>\n",
              "    <tr style=\"text-align: right;\">\n",
              "      <th></th>\n",
              "      <th>theta</th>\n",
              "      <th>jointlik</th>\n",
              "      <th>prior</th>\n",
              "      <th>unnorm_post</th>\n",
              "      <th>post</th>\n",
              "    </tr>\n",
              "  </thead>\n",
              "  <tbody>\n",
              "    <tr>\n",
              "      <th>0</th>\n",
              "      <td>0.05</td>\n",
              "      <td>3.077387e-15</td>\n",
              "      <td>0.004530</td>\n",
              "      <td>1.394078e-17</td>\n",
              "      <td>3.397534e-11</td>\n",
              "    </tr>\n",
              "    <tr>\n",
              "      <th>1</th>\n",
              "      <td>0.10</td>\n",
              "      <td>3.874201e-12</td>\n",
              "      <td>0.025244</td>\n",
              "      <td>9.780136e-14</td>\n",
              "      <td>2.383536e-07</td>\n",
              "    </tr>\n",
              "    <tr>\n",
              "      <th>2</th>\n",
              "      <td>0.15</td>\n",
              "      <td>2.003431e-10</td>\n",
              "      <td>0.039652</td>\n",
              "      <td>7.943911e-12</td>\n",
              "      <td>1.936026e-05</td>\n",
              "    </tr>\n",
              "    <tr>\n",
              "      <th>3</th>\n",
              "      <td>0.20</td>\n",
              "      <td>2.748777e-09</td>\n",
              "      <td>0.050489</td>\n",
              "      <td>1.387817e-10</td>\n",
              "      <td>3.382275e-04</td>\n",
              "    </tr>\n",
              "    <tr>\n",
              "      <th>4</th>\n",
              "      <td>0.25</td>\n",
              "      <td>1.790158e-08</td>\n",
              "      <td>0.058822</td>\n",
              "      <td>1.053013e-09</td>\n",
              "      <td>2.566319e-03</td>\n",
              "    </tr>\n",
              "    <tr>\n",
              "      <th>5</th>\n",
              "      <td>0.30</td>\n",
              "      <td>7.148524e-08</td>\n",
              "      <td>0.065195</td>\n",
              "      <td>4.660496e-09</td>\n",
              "      <td>1.135819e-02</td>\n",
              "    </tr>\n",
              "    <tr>\n",
              "      <th>6</th>\n",
              "      <td>0.35</td>\n",
              "      <td>1.999719e-07</td>\n",
              "      <td>0.069919</td>\n",
              "      <td>1.398182e-08</td>\n",
              "      <td>3.407536e-02</td>\n",
              "    </tr>\n",
              "    <tr>\n",
              "      <th>7</th>\n",
              "      <td>0.40</td>\n",
              "      <td>4.226892e-07</td>\n",
              "      <td>0.073183</td>\n",
              "      <td>3.093350e-08</td>\n",
              "      <td>7.538863e-02</td>\n",
              "    </tr>\n",
              "    <tr>\n",
              "      <th>8</th>\n",
              "      <td>0.45</td>\n",
              "      <td>7.056702e-07</td>\n",
              "      <td>0.075100</td>\n",
              "      <td>5.299591e-08</td>\n",
              "      <td>1.291573e-01</td>\n",
              "    </tr>\n",
              "    <tr>\n",
              "      <th>9</th>\n",
              "      <td>0.50</td>\n",
              "      <td>9.536743e-07</td>\n",
              "      <td>0.075733</td>\n",
              "      <td>7.222442e-08</td>\n",
              "      <td>1.760195e-01</td>\n",
              "    </tr>\n",
              "    <tr>\n",
              "      <th>10</th>\n",
              "      <td>0.55</td>\n",
              "      <td>1.054149e-06</td>\n",
              "      <td>0.075100</td>\n",
              "      <td>7.916673e-08</td>\n",
              "      <td>1.929388e-01</td>\n",
              "    </tr>\n",
              "    <tr>\n",
              "      <th>11</th>\n",
              "      <td>0.60</td>\n",
              "      <td>9.510505e-07</td>\n",
              "      <td>0.073183</td>\n",
              "      <td>6.960036e-08</td>\n",
              "      <td>1.696244e-01</td>\n",
              "    </tr>\n",
              "    <tr>\n",
              "      <th>12</th>\n",
              "      <td>0.65</td>\n",
              "      <td>6.896987e-07</td>\n",
              "      <td>0.069919</td>\n",
              "      <td>4.822300e-08</td>\n",
              "      <td>1.175252e-01</td>\n",
              "    </tr>\n",
              "    <tr>\n",
              "      <th>13</th>\n",
              "      <td>0.70</td>\n",
              "      <td>3.891971e-07</td>\n",
              "      <td>0.065195</td>\n",
              "      <td>2.537379e-08</td>\n",
              "      <td>6.183896e-02</td>\n",
              "    </tr>\n",
              "    <tr>\n",
              "      <th>14</th>\n",
              "      <td>0.75</td>\n",
              "      <td>1.611143e-07</td>\n",
              "      <td>0.058822</td>\n",
              "      <td>9.477118e-09</td>\n",
              "      <td>2.309687e-02</td>\n",
              "    </tr>\n",
              "    <tr>\n",
              "      <th>15</th>\n",
              "      <td>0.80</td>\n",
              "      <td>4.398041e-08</td>\n",
              "      <td>0.050489</td>\n",
              "      <td>2.220506e-09</td>\n",
              "      <td>5.411639e-03</td>\n",
              "    </tr>\n",
              "    <tr>\n",
              "      <th>16</th>\n",
              "      <td>0.85</td>\n",
              "      <td>6.433229e-09</td>\n",
              "      <td>0.039652</td>\n",
              "      <td>2.550873e-10</td>\n",
              "      <td>6.216783e-04</td>\n",
              "    </tr>\n",
              "    <tr>\n",
              "      <th>17</th>\n",
              "      <td>0.90</td>\n",
              "      <td>3.138111e-10</td>\n",
              "      <td>0.025244</td>\n",
              "      <td>7.921932e-12</td>\n",
              "      <td>1.930669e-05</td>\n",
              "    </tr>\n",
              "    <tr>\n",
              "      <th>18</th>\n",
              "      <td>0.95</td>\n",
              "      <td>1.110939e-12</td>\n",
              "      <td>0.004530</td>\n",
              "      <td>5.032633e-15</td>\n",
              "      <td>1.226513e-08</td>\n",
              "    </tr>\n",
              "  </tbody>\n",
              "</table>\n",
              "</div>"
            ],
            "text/plain": [
              "    theta      jointlik     prior   unnorm_post          post\n",
              "0    0.05  3.077387e-15  0.004530  1.394078e-17  3.397534e-11\n",
              "1    0.10  3.874201e-12  0.025244  9.780136e-14  2.383536e-07\n",
              "2    0.15  2.003431e-10  0.039652  7.943911e-12  1.936026e-05\n",
              "3    0.20  2.748777e-09  0.050489  1.387817e-10  3.382275e-04\n",
              "4    0.25  1.790158e-08  0.058822  1.053013e-09  2.566319e-03\n",
              "5    0.30  7.148524e-08  0.065195  4.660496e-09  1.135819e-02\n",
              "6    0.35  1.999719e-07  0.069919  1.398182e-08  3.407536e-02\n",
              "7    0.40  4.226892e-07  0.073183  3.093350e-08  7.538863e-02\n",
              "8    0.45  7.056702e-07  0.075100  5.299591e-08  1.291573e-01\n",
              "9    0.50  9.536743e-07  0.075733  7.222442e-08  1.760195e-01\n",
              "10   0.55  1.054149e-06  0.075100  7.916673e-08  1.929388e-01\n",
              "11   0.60  9.510505e-07  0.073183  6.960036e-08  1.696244e-01\n",
              "12   0.65  6.896987e-07  0.069919  4.822300e-08  1.175252e-01\n",
              "13   0.70  3.891971e-07  0.065195  2.537379e-08  6.183896e-02\n",
              "14   0.75  1.611143e-07  0.058822  9.477118e-09  2.309687e-02\n",
              "15   0.80  4.398041e-08  0.050489  2.220506e-09  5.411639e-03\n",
              "16   0.85  6.433229e-09  0.039652  2.550873e-10  6.216783e-04\n",
              "17   0.90  3.138111e-10  0.025244  7.921932e-12  1.930669e-05\n",
              "18   0.95  1.110939e-12  0.004530  5.032633e-15  1.226513e-08"
            ]
          },
          "metadata": {
            "tags": []
          },
          "execution_count": 28
        }
      ]
    },
    {
      "cell_type": "code",
      "metadata": {
        "colab_type": "code",
        "id": "3afjJZJb86eI",
        "outputId": "d21b75d6-dd1d-4a91-d4ed-51b24be5a167",
        "colab": {
          "base_uri": "https://localhost:8080/",
          "height": 404
        }
      },
      "source": [
        "plt.figure(figsize=(16,6))\n",
        "plt.subplot(1,2,1)\n",
        "plt.stem([0,1],[np.sum((1-RES[\"theta\"])*RES[\"prior\"]),np.sum((RES[\"theta\"])*RES[\"prior\"])],use_line_collection=True)\n",
        "plt.xlabel(\"Y\")\n",
        "plt.ylabel(\"P(y)\")\n",
        "plt.ylim([0,1])\n",
        "plt.title(\"prior distribution\")\n",
        "plt.subplot(1,2,2)\n",
        "plt.stem([0,1],[np.sum((1-RES[\"theta\"])*RES[\"post\"]),np.sum((RES[\"theta\"])*RES[\"post\"])],use_line_collection=True)\n",
        "plt.ylim([0,1])\n",
        "plt.xlabel(\"Y\")\n",
        "plt.ylabel(\"P(y)\")\n",
        "plt.title(\"posterior distribution\")\n",
        "plt.show()"
      ],
      "execution_count": 0,
      "outputs": [
        {
          "output_type": "display_data",
          "data": {
            "image/png": "[encoded data removed]",
            "text/plain": [
              "<Figure size 1152x432 with 2 Axes>"
            ]
          },
          "metadata": {
            "tags": []
          }
        }
      ]
    },
    {
      "cell_type": "code",
      "metadata": {
        "colab_type": "code",
        "id": "UKom4dgQ89nQ",
        "outputId": "f4977f49-60fe-40d6-f9f2-9b61d45d5681",
        "colab": {
          "base_uri": "https://localhost:8080/",
          "height": 404
        }
      },
      "source": [
        "plt.figure(figsize=(16,6))\n",
        "plt.subplot(1,2,1)\n",
        "plt.stem(RES[\"theta\"],RES[\"post\"],use_line_collection=True)\n",
        "plt.ylim([0,1])\n",
        "plt.xlabel(\"theta\")\n",
        "plt.ylabel(\"density\")\n",
        "plt.title(\"posterior distribution\")\n",
        "plt.subplot(1,2,2)\n",
        "plt.stem([0,1],[np.sum((1-RES[\"theta\"])*RES[\"post\"]),np.sum((RES[\"theta\"])*RES[\"post\"])],use_line_collection=True)\n",
        "plt.ylim([0,1])\n",
        "plt.xlabel(\"Y\")\n",
        "plt.ylabel(\"P(y)\")\n",
        "plt.title(\"posterior distribution\")\n",
        "plt.show()\n"
      ],
      "execution_count": 0,
      "outputs": [
        {
          "output_type": "display_data",
          "data": {
            "image/png": "[encoded data removed]",
            "text/plain": [
              "<Figure size 1152x432 with 2 Axes>"
            ]
          },
          "metadata": {
            "tags": []
          }
        }
      ]
    },
    {
      "cell_type": "code",
      "metadata": {
        "colab_type": "code",
        "id": "TrXOlt-W9Iwh",
        "outputId": "f7b76474-2c8f-4a82-d48a-7f8aa0347914",
        "colab": {
          "base_uri": "https://localhost:8080/",
          "height": 34
        }
      },
      "source": [
        "[np.sum((1-RES[\"theta\"])*RES[\"post\"]),np.sum((RES[\"theta\"])*RES[\"post\"])]"
      ],
      "execution_count": 0,
      "outputs": [
        {
          "output_type": "execute_result",
          "data": {
            "text/plain": [
              "[0.4579006177929155, 0.5420993822070844]"
            ]
          },
          "metadata": {
            "tags": []
          },
          "execution_count": 31
        }
      ]
    }
  ]
}